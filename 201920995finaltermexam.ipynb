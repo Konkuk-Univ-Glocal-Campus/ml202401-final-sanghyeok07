{
 "cells": [
  {
   "cell_type": "markdown",
   "metadata": {},
   "source": [
    "홀수 학번이므로 amazon_uk_shoes_products_dataset_2021_12.csv 데이터를 분석하겠습니다."
   ]
  },
  {
   "cell_type": "markdown",
   "metadata": {},
   "source": [
    "데이터를 로드하고, 데이터프레임의 기본 정보를 확인합니다."
   ]
  },
  {
   "cell_type": "code",
   "execution_count": 31,
   "metadata": {},
   "outputs": [
    {
     "name": "stdout",
     "output_type": "stream",
     "text": [
      "                                      url  \\\n",
      "0  https://www.amazon.co.uk/dp/B07SBX32T5   \n",
      "1  https://www.amazon.co.uk/dp/B07SBX32T5   \n",
      "2  https://www.amazon.co.uk/dp/B07SBX32T5   \n",
      "3  https://www.amazon.co.uk/dp/B07SBX32T5   \n",
      "4  https://www.amazon.co.uk/dp/B08SW434MG   \n",
      "\n",
      "                                        product_name     reviewer_name  \\\n",
      "0  Klasified Women's Transparent Clear Sneaker Sh...  Jocelyn McSayles   \n",
      "1  Klasified Women's Transparent Clear Sneaker Sh...      Kenia Rivera   \n",
      "2  Klasified Women's Transparent Clear Sneaker Sh...       Chris Souza   \n",
      "3  Klasified Women's Transparent Clear Sneaker Sh...   Amazon Customer   \n",
      "4  GUESS Women's Bradly Gymnastics Shoe, White, 7 UK         Graziella   \n",
      "\n",
      "         review_title                                        review_text  \\\n",
      "0             Love em  Love these. Was looking for converses and thes...   \n",
      "1  The plastic ripped  The shoes are very cute, but after the 2nd day...   \n",
      "2        Good quality                                       Good quality   \n",
      "3                Good                                              Great   \n",
      "4          PERFETTE!!  Ho scelto il modello bianco con rifinitura die...   \n",
      "\n",
      "   review_rating  verified_purchase  \\\n",
      "0            5.0               True   \n",
      "1            2.0               True   \n",
      "2            5.0               True   \n",
      "3            5.0               True   \n",
      "4            5.0               True   \n",
      "\n",
      "                                        review_date  \\\n",
      "0      Reviewed in the United States on 2 June 2020   \n",
      "1  Reviewed in the United States on 28 October 2021   \n",
      "2  Reviewed in the United States on 20 January 2021   \n",
      "3    Reviewed in the United States on 22 April 2021   \n",
      "4                 Reviewed in Italy on 2 April 2021   \n",
      "\n",
      "                 helpful_count                               uniq_id  \\\n",
      "0  2 people found this helpful  36eae4e5-2894-5279-a0b7-d2b330e2b814   \n",
      "1                          NaN  f4778bb8-3070-5cb1-b5aa-ffce41a97b57   \n",
      "2                          NaN  db5a7525-d40b-5265-84d8-df4f29837a3b   \n",
      "3                          NaN  75a42851-6462-54b5-988a-27d336221943   \n",
      "4  2 people found this helpful  232dee43-849e-5d06-ba05-efb3f4814714   \n",
      "\n",
      "            scraped_at  \n",
      "0  24/12/2021 02:26:25  \n",
      "1  24/12/2021 02:26:25  \n",
      "2  24/12/2021 02:26:25  \n",
      "3  24/12/2021 02:26:25  \n",
      "4  24/12/2021 02:26:25  \n",
      "<class 'pandas.core.frame.DataFrame'>\n",
      "RangeIndex: 6823 entries, 0 to 6822\n",
      "Data columns (total 11 columns):\n",
      " #   Column             Non-Null Count  Dtype  \n",
      "---  ------             --------------  -----  \n",
      " 0   url                6823 non-null   object \n",
      " 1   product_name       6823 non-null   object \n",
      " 2   reviewer_name      6823 non-null   object \n",
      " 3   review_title       6822 non-null   object \n",
      " 4   review_text        6814 non-null   object \n",
      " 5   review_rating      6823 non-null   float64\n",
      " 6   verified_purchase  6823 non-null   bool   \n",
      " 7   review_date        6823 non-null   object \n",
      " 8   helpful_count      1953 non-null   object \n",
      " 9   uniq_id            6823 non-null   object \n",
      " 10  scraped_at         6823 non-null   object \n",
      "dtypes: bool(1), float64(1), object(9)\n",
      "memory usage: 539.8+ KB\n",
      "None\n",
      "       review_rating\n",
      "count    6823.000000\n",
      "mean        4.132493\n",
      "std         1.336969\n",
      "min         1.000000\n",
      "25%         4.000000\n",
      "50%         5.000000\n",
      "75%         5.000000\n",
      "max         5.000000\n",
      "Index(['url', 'product_name', 'reviewer_name', 'review_title', 'review_text',\n",
      "       'review_rating', 'verified_purchase', 'review_date', 'helpful_count',\n",
      "       'uniq_id', 'scraped_at'],\n",
      "      dtype='object')\n"
     ]
    }
   ],
   "source": [
    "import pandas as pd\n",
    "\n",
    "# 데이터 불러오기 (출처: amazon_uk_shoes_products_dataset_2021_12.csv 파일)\n",
    "df = pd.read_csv('amazon_uk_shoes_products_dataset_2021_12.csv')\n",
    "\n",
    "# 데이터프레임의 기본 정보 확인\n",
    "print(df.head()) # 상위 5개의 행 출력\n",
    "print(df.info()) # 데이터프레임의 요약 정보 출력\n",
    "print(df.describe()) # 데이터프레임의 기술 통계 정보 출력\n",
    "print(df.columns) # 컬럼명 출력"
   ]
  },
  {
   "cell_type": "markdown",
   "metadata": {},
   "source": [
    "결측값을 확인합니다."
   ]
  },
  {
   "cell_type": "code",
   "execution_count": 32,
   "metadata": {},
   "outputs": [
    {
     "name": "stdout",
     "output_type": "stream",
     "text": [
      "url                     0\n",
      "product_name            0\n",
      "reviewer_name           0\n",
      "review_title            1\n",
      "review_text             9\n",
      "review_rating           0\n",
      "verified_purchase       0\n",
      "review_date             0\n",
      "helpful_count        4870\n",
      "uniq_id                 0\n",
      "scraped_at              0\n",
      "dtype: int64\n"
     ]
    }
   ],
   "source": [
    "# 결측값 확인\n",
    "print(df.isnull().sum())"
   ]
  },
  {
   "cell_type": "markdown",
   "metadata": {},
   "source": [
    "결측값과 중복값을 제거합니다."
   ]
  },
  {
   "cell_type": "code",
   "execution_count": 33,
   "metadata": {},
   "outputs": [
    {
     "name": "stdout",
     "output_type": "stream",
     "text": [
      "url                     0\n",
      "product_name            0\n",
      "reviewer_name           0\n",
      "review_title            1\n",
      "review_text             0\n",
      "review_rating           0\n",
      "verified_purchase       0\n",
      "review_date             0\n",
      "helpful_count        4653\n",
      "uniq_id                 0\n",
      "scraped_at              0\n",
      "dtype: int64\n",
      "0\n"
     ]
    }
   ],
   "source": [
    "# 'review_text' 컬럼의 결측값 제거\n",
    "df = df.dropna(subset=['review_text'])\n",
    "\n",
    "# 'review_text' 컬럼의 중복값 제거\n",
    "df = df.drop_duplicates(subset=['review_text'])\n",
    "\n",
    "# 결측값 제거 및 중복값 제거 후 다시 확인\n",
    "print(df.isnull().sum())\n",
    "print(df.duplicated(subset=['review_text']).sum())"
   ]
  },
  {
   "cell_type": "markdown",
   "metadata": {},
   "source": [
    "NLTK를 사용하여 텍스트 데이터를 전처리합니다. 여기에는 토큰화, 불용어 제거, 소문자 변환, 스테밍 또는 표제어 추출이 포함됩니다."
   ]
  },
  {
   "cell_type": "code",
   "execution_count": 34,
   "metadata": {},
   "outputs": [
    {
     "name": "stdout",
     "output_type": "stream",
     "text": [
      "Requirement already satisfied: nltk in /usr/local/python/3.10.13/lib/python3.10/site-packages (3.8.1)\n",
      "Requirement already satisfied: click in /usr/local/python/3.10.13/lib/python3.10/site-packages (from nltk) (8.1.7)\n",
      "Requirement already satisfied: joblib in /home/codespace/.local/lib/python3.10/site-packages (from nltk) (1.4.2)\n",
      "Requirement already satisfied: regex>=2021.8.3 in /usr/local/python/3.10.13/lib/python3.10/site-packages (from nltk) (2024.5.15)\n",
      "Requirement already satisfied: tqdm in /usr/local/python/3.10.13/lib/python3.10/site-packages (from nltk) (4.66.4)\n"
     ]
    },
    {
     "name": "stderr",
     "output_type": "stream",
     "text": [
      "[nltk_data] Downloading package punkt to /home/codespace/nltk_data...\n",
      "[nltk_data]   Package punkt is already up-to-date!\n",
      "[nltk_data] Downloading package stopwords to\n",
      "[nltk_data]     /home/codespace/nltk_data...\n",
      "[nltk_data]   Package stopwords is already up-to-date!\n"
     ]
    },
    {
     "name": "stdout",
     "output_type": "stream",
     "text": [
      "                                         review_text  \\\n",
      "0  Love these. Was looking for converses and thes...   \n",
      "1  The shoes are very cute, but after the 2nd day...   \n",
      "2                                       Good quality   \n",
      "3                                              Great   \n",
      "4  Ho scelto il modello bianco con rifinitura die...   \n",
      "\n",
      "                                 cleaned_review_text  \n",
      "0  love look convers half price never seen clear ...  \n",
      "1  shoe cute day wear tongu start rip day wear pl...  \n",
      "2                                       good qualiti  \n",
      "3                                              great  \n",
      "4  ho scelto il modello bianco con rifinitura die...  \n"
     ]
    }
   ],
   "source": [
    "# nltk 모듈 설치\n",
    "!pip install nltk\n",
    "\n",
    "import nltk\n",
    "from nltk.corpus import stopwords\n",
    "from nltk.tokenize import word_tokenize\n",
    "from nltk.stem import PorterStemmer\n",
    "\n",
    "# NLTK 리소스 다운로드 (출처: https://www.nltk.org/data.html)\n",
    "nltk.download('punkt')\n",
    "nltk.download('stopwords')\n",
    "\n",
    "# 텍스트 전처리 함수 정의\n",
    "stop_words = set(stopwords.words('english'))\n",
    "ps = PorterStemmer()\n",
    "\n",
    "def preprocess_text(text):\n",
    "    # 토큰화\n",
    "    tokens = word_tokenize(text)\n",
    "    # 불용어 제거 및 소문자 변환\n",
    "    tokens = [word.lower() for word in tokens if word.isalpha() and word.lower() not in stop_words]\n",
    "    # 스테밍\n",
    "    tokens = [ps.stem(word) for word in tokens]\n",
    "    return ' '.join(tokens)\n",
    "\n",
    "# 전처리 적용\n",
    "df['cleaned_review_text'] = df['review_text'].apply(preprocess_text)\n",
    "\n",
    "# 전처리된 데이터 확인\n",
    "print(df[['review_text', 'cleaned_review_text']].head())"
   ]
  },
  {
   "cell_type": "markdown",
   "metadata": {},
   "source": [
    "전처리된 텍스트 데이터를 학습 및 테스트 세트로 분할하고, 리뷰 평점을 기반으로 레이블을 이진화하여 긍정(1)과 부정(0)으로 분류합니다."
   ]
  },
  {
   "cell_type": "code",
   "execution_count": 35,
   "metadata": {},
   "outputs": [],
   "source": [
    "from sklearn.model_selection import train_test_split\n",
    "\n",
    "# 데이터셋 분할\n",
    "X = df['cleaned_review_text']\n",
    "y = df['review_rating'] # 감성 레이블이 담긴 컬럼으로 가정\n",
    "\n",
    "# 레이블 이진화\n",
    "y = y.apply(lambda x: 1 if x >= 3 else 0)\n",
    "\n",
    "# 학습 및 테스트 세트로 분할 (학습: 80%, 테스트: 20%)\n",
    "X_train, X_test, y_train, y_test = train_test_split(X, y, test_size=0.2, random_state=42)"
   ]
  },
  {
   "cell_type": "markdown",
   "metadata": {},
   "source": [
    "TF-IDF 벡터라이저와 로지스틱 회귀 모델을 사용하여 파이프라인을 구축하고 학습시킵니다. 그런 다음, 모델의 성능을 평가합니다."
   ]
  },
  {
   "cell_type": "code",
   "execution_count": 36,
   "metadata": {},
   "outputs": [
    {
     "name": "stdout",
     "output_type": "stream",
     "text": [
      "Accuracy: 0.8478593272171254\n",
      "Precision: 0.8501577287066246\n",
      "Recall: 0.9917203311867525\n",
      "F1 Score: 0.9154989384288748\n"
     ]
    }
   ],
   "source": [
    "from sklearn.feature_extraction.text import TfidfVectorizer\n",
    "from sklearn.linear_model import LogisticRegression\n",
    "from sklearn.pipeline import Pipeline\n",
    "from sklearn.metrics import accuracy_score, precision_score, recall_score, f1_score\n",
    "\n",
    "# TF-IDF 벡터라이저와 로지스틱 회귀 모델 파이프라인\n",
    "model = Pipeline([\n",
    "    ('tfidf', TfidfVectorizer()),\n",
    "    ('clf', LogisticRegression())\n",
    "])\n",
    "\n",
    "# 모델 학습\n",
    "model.fit(X_train, y_train)\n",
    "\n",
    "# 예측\n",
    "y_pred = model.predict(X_test)\n",
    "\n",
    "# 평가 지표 계산\n",
    "accuracy = accuracy_score(y_test, y_pred)\n",
    "precision = precision_score(y_test, y_pred)\n",
    "recall = recall_score(y_test, y_pred)\n",
    "f1 = f1_score(y_test, y_pred)\n",
    "\n",
    "print(f'Accuracy: {accuracy}')\n",
    "print(f'Precision: {precision}')\n",
    "print(f'Recall: {recall}')\n",
    "print(f'F1 Score: {f1}')"
   ]
  },
  {
   "cell_type": "markdown",
   "metadata": {},
   "source": [
    "혼동 행렬을 시각화하고, ROC 곡선을 그려 모델의 성능을 평가합니다."
   ]
  },
  {
   "cell_type": "code",
   "execution_count": 37,
   "metadata": {},
   "outputs": [
    {
     "data": {
      "image/png": "[encoded data removed]",
      "text/plain": [
       "<Figure size 640x480 with 2 Axes>"
      ]
     },
     "metadata": {},
     "output_type": "display_data"
    },
    {
     "data": {
      "image/png": "[encoded data removed]",
      "text/plain": [
       "<Figure size 640x480 with 1 Axes>"
      ]
     },
     "metadata": {},
     "output_type": "display_data"
    }
   ],
   "source": [
    "import matplotlib.pyplot as plt\n",
    "import seaborn as sns\n",
    "from sklearn.metrics import confusion_matrix, roc_curve, auc\n",
    "\n",
    "# 혼동 행렬 시각화\n",
    "conf_matrix = confusion_matrix(y_test, y_pred)\n",
    "sns.heatmap(conf_matrix, annot=True, fmt='d', cmap='Blues')\n",
    "plt.xlabel('Predicted')\n",
    "plt.ylabel('Actual')\n",
    "plt.title('Confusion Matrix')\n",
    "plt.show()\n",
    "\n",
    "# ROC 곡선\n",
    "y_prob = model.predict_proba(X_test)[:, 1]\n",
    "fpr, tpr, thresholds = roc_curve(y_test, y_prob)\n",
    "roc_auc = auc(fpr, tpr)\n",
    "\n",
    "plt.figure()\n",
    "plt.plot(fpr, tpr, color='darkorange', lw=2, label=f'ROC curve (area = {roc_auc:.2f})')\n",
    "plt.plot([0, 1], [0, 1], color='navy', lw=2, linestyle='--')\n",
    "plt.xlim([0.0, 1.0])\n",
    "plt.ylim([0.0, 1.05])\n",
    "plt.xlabel('False Positive Rate')\n",
    "plt.ylabel('True Positive Rate')\n",
    "plt.title('Receiver Operating Characteristic (ROC)')\n",
    "plt.legend(loc=\"lower right\")\n",
    "plt.show()"
   ]
  }
 ],
 "metadata": {
  "kernelspec": {
   "display_name": "Python 3",
   "language": "python",
   "name": "python3"
  },
  "language_info": {
   "codemirror_mode": {
    "name": "ipython",
    "version": 3
   },
   "file_extension": ".py",
   "mimetype": "text/x-python",
   "name": "python",
   "nbconvert_exporter": "python",
   "pygments_lexer": "ipython3",
   "version": "3.10.13"
  }
 },
 "nbformat": 4,
 "nbformat_minor": 2
}
